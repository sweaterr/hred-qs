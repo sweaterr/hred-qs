{
 "cells": [
  {
   "cell_type": "code",
   "execution_count": 1,
   "metadata": {
    "collapsed": true
   },
   "outputs": [],
   "source": [
    "from data_iterator import *\n",
    "from state import *\n",
    "from session_encdec import *\n",
    "from utils import *\n",
    "\n",
    "import time\n",
    "import traceback\n",
    "import os.path\n",
    "import sys\n",
    "import argparse\n",
    "import cPickle\n",
    "import logging\n",
    "import search\n",
    "import pprint\n",
    "import numpy\n",
    "import collections\n",
    "import signal"
   ]
  },
  {
   "cell_type": "code",
   "execution_count": 6,
   "metadata": {
    "collapsed": false
   },
   "outputs": [],
   "source": [
    "def parse_args():\n",
    "    parser = argparse.ArgumentParser()\n",
    "    parser.add_argument(\"--resume\", type=str, default=\"\", help=\"Resume training from that state\")\n",
    "    parser.add_argument(\"--prototype\", type=str, help=\"Use the prototype\", default='prototype_state')\n",
    "\n",
    "    args = parser.parse_args()\n",
    "    return args"
   ]
  },
  {
   "cell_type": "code",
   "execution_count": 3,
   "metadata": {
    "collapsed": true
   },
   "outputs": [],
   "source": [
    "logging.basicConfig(\n",
    "        level = logging.INFO,\n",
    "        format = \"%(asctime)s: %(name)s: %(levelname)s: %(message)s\")"
   ]
  },
  {
   "cell_type": "code",
   "execution_count": 7,
   "metadata": {
    "collapsed": false
   },
   "outputs": [
    {
     "name": "stderr",
     "output_type": "stream",
     "text": [
      "usage: __main__.py [-h] [--resume RESUME] [--prototype PROTOTYPE]\n",
      "__main__.py: error: unrecognized arguments: -f /Users/sweaterr/Library/Jupyter/runtime/kernel-2c8c55a2-b3a4-4e2d-a24e-4662e545f758.json\n"
     ]
    },
    {
     "ename": "SystemExit",
     "evalue": "2",
     "traceback": [
      "An exception has occurred, use %tb to see the full traceback.\n",
      "\u001b[0;31mSystemExit\u001b[0m\u001b[0;31m:\u001b[0m 2\n"
     ],
     "output_type": "error"
    },
    {
     "name": "stderr",
     "output_type": "stream",
     "text": [
      "To exit: use 'exit', 'quit', or Ctrl-D.\n"
     ]
    }
   ],
   "source": [
    "state = eval(parse_args().prototype)()\n",
    "timings = init_timings()"
   ]
  },
  {
   "cell_type": "code",
   "execution_count": null,
   "metadata": {
    "collapsed": true
   },
   "outputs": [],
   "source": [
    ""
   ]
  }
 ],
 "metadata": {
  "kernelspec": {
   "display_name": "Python 2",
   "language": "python",
   "name": "python2"
  },
  "language_info": {
   "codemirror_mode": {
    "name": "ipython",
    "version": 2.0
   },
   "file_extension": ".py",
   "mimetype": "text/x-python",
   "name": "python",
   "nbconvert_exporter": "python",
   "pygments_lexer": "ipython2",
   "version": "2.7.11"
  }
 },
 "nbformat": 4,
 "nbformat_minor": 0
}